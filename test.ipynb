{
 "cells": [
  {
   "cell_type": "code",
   "id": "initial_id",
   "metadata": {
    "collapsed": true,
    "ExecuteTime": {
     "end_time": "2025-01-26T14:18:57.826225Z",
     "start_time": "2025-01-26T14:18:57.805298Z"
    }
   },
   "source": "import icalendar",
   "outputs": [],
   "execution_count": 1
  },
  {
   "metadata": {
    "ExecuteTime": {
     "end_time": "2025-01-26T14:21:01.143198Z",
     "start_time": "2025-01-26T14:21:01.139925Z"
    }
   },
   "cell_type": "code",
   "source": "from pathlib import Path",
   "id": "b404c6622c095369",
   "outputs": [],
   "execution_count": 2
  },
  {
   "metadata": {
    "ExecuteTime": {
     "end_time": "2025-01-26T14:22:12.724647Z",
     "start_time": "2025-01-26T14:22:12.721075Z"
    }
   },
   "cell_type": "code",
   "source": "ics_path = Path(\"data/ics.ics\")",
   "id": "476a1639398d79e8",
   "outputs": [],
   "execution_count": 3
  },
  {
   "metadata": {
    "ExecuteTime": {
     "end_time": "2025-01-26T14:22:48.734014Z",
     "start_time": "2025-01-26T14:22:48.631834Z"
    }
   },
   "cell_type": "code",
   "source": [
    "with ics_path.open() as f:\n",
    "\tcalendar = icalendar.Calendar.from_ical(f.read())"
   ],
   "id": "fb08e4022a8c7d99",
   "outputs": [],
   "execution_count": 4
  },
  {
   "metadata": {
    "ExecuteTime": {
     "end_time": "2025-01-26T15:54:11.291610Z",
     "start_time": "2025-01-26T14:38:29.983355Z"
    }
   },
   "cell_type": "code",
   "source": [
    "for event in calendar.walk('VEVENT'):\n",
    "\tprint(event)"
   ],
   "id": "62545cc0a80a46de",
   "outputs": [
    {
     "name": "stdout",
     "output_type": "stream",
     "text": [
      "VEVENT({'CREATED': vDDDTypes(2021-03-15 15:44:09+00:00, Parameters({})), 'LAST-MODIFIED': vDDDTypes(2021-03-15 15:44:46+00:00, Parameters({})), 'DTSTAMP': vDDDTypes(2021-03-15 15:44:46+00:00, Parameters({})), 'UID': vText(b'd73ee1b1-7b07-48b0-8f4f-d6f6dc8e3666'), 'SUMMARY': vText(b'Planung Omas Garten (Fa. J\\xc3\\xb6hrens)'), 'DTSTART': vDDDTypes(2021-04-20 14:00:00+02:00, Parameters({'TZID': 'Europe/Berlin'})), 'DTEND': vDDDTypes(2021-04-20 15:30:00+02:00, Parameters({'TZID': 'Europe/Berlin'}))})\n",
      "VEVENT({'CREATED': vDDDTypes(2022-07-08 14:31:34+00:00, Parameters({})), 'LAST-MODIFIED': vDDDTypes(2022-07-08 14:47:16+00:00, Parameters({})), 'DTSTAMP': vDDDTypes(2022-07-08 14:47:16+00:00, Parameters({})), 'UID': vText(b'dc776955-25e8-4226-b4de-05137d49c27f'), 'SUMMARY': vText(b'[J]: China'), 'DTSTART': vDDDTypes(2022-07-29 09:30:00+02:00, Parameters({'TZID': 'Europe/Berlin'})), 'DTEND': vDDDTypes(2022-07-29 15:00:00+02:00, Parameters({'TZID': 'Europe/Berlin'})), 'X-MOZ-GENERATION': vText(b'2'), 'DESCRIPTION': vText(b'Leibniz-Konfuzius-Institut\\\\nLange Laube 30\\\\nEssen mitnehmen!\\\\n')})\n",
      "VEVENT({'CREATED': vDDDTypes(2022-08-30 09:04:26+00:00, Parameters({})), 'LAST-MODIFIED': vDDDTypes(2022-08-30 09:04:58+00:00, Parameters({})), 'DTSTAMP': vDDDTypes(2022-08-30 09:04:58+00:00, Parameters({})), 'UID': vText(b'f6ea67aa-f61f-46f4-afe6-05944439853d'), 'SUMMARY': vText(b'[J]: Jonas Geburtstag'), 'DTSTART': vDDDTypes(2022-09-18 13:45:00+02:00, Parameters({'TZID': 'Europe/Berlin'})), 'DTEND': vDDDTypes(2022-09-18 19:00:00+02:00, Parameters({'TZID': 'Europe/Berlin'}))})\n",
      "VEVENT({'CREATED': vDDDTypes(2022-11-01 13:25:41+00:00, Parameters({})), 'LAST-MODIFIED': vDDDTypes(2022-11-15 09:41:57+00:00, Parameters({})), 'DTSTAMP': vDDDTypes(2022-11-15 09:41:57+00:00, Parameters({})), 'UID': vText(b'ed34b762-f0d6-4f7c-8d8e-6aee454ded1a'), 'SUMMARY': vText(b'[J] Friseur'), 'DTSTART': vDDDTypes(2022-12-16 16:45:00+01:00, Parameters({'TZID': 'Europe/Berlin'})), 'DTEND': vDDDTypes(2022-12-16 17:45:00+01:00, Parameters({'TZID': 'Europe/Berlin'})), 'SEQUENCE': 2, 'X-MOZ-GENERATION': vText(b'2')})\n",
      "VEVENT({'CREATED': vDDDTypes(2022-12-18 10:27:12+00:00, Parameters({})), 'LAST-MODIFIED': vDDDTypes(2022-12-18 10:28:13+00:00, Parameters({})), 'DTSTAMP': vDDDTypes(2022-12-18 10:28:13+00:00, Parameters({})), 'UID': vText(b'f7148452-71d1-44a4-8025-0d8a22477343'), 'SUMMARY': vText(b'[J] Friseur'), 'DTSTART': vDDDTypes(2023-01-27 16:00:00+01:00, Parameters({'TZID': 'Europe/Berlin'})), 'DTEND': vDDDTypes(2023-01-27 16:30:00+01:00, Parameters({'TZID': 'Europe/Berlin'})), 'X-MOZ-GENERATION': vText(b'2'), 'SEQUENCE': 1})\n",
      "VEVENT({'CREATED': vDDDTypes(2022-09-17 15:31:31+00:00, Parameters({})), 'LAST-MODIFIED': vDDDTypes(2022-11-29 12:55:21+00:00, Parameters({})), 'DTSTAMP': vDDDTypes(2023-04-09 09:35:16+00:00, Parameters({})), 'UID': vText(b'ebc73c24-08df-4e66-8f57-53829bb45170'), 'SUMMARY': vText(b'Osterferien'), 'DTSTART': vDDDTypes(2023-03-25, Parameters({'VALUE': 'DATE'})), 'DTEND': vDDDTypes(2023-04-12, Parameters({'VALUE': 'DATE'})), 'X-MOZ-GENERATION': vText(b'1'), 'SEQUENCE': 2})\n",
      "VEVENT({'CREATED': vDDDTypes(2022-07-08 14:39:11+00:00, Parameters({})), 'LAST-MODIFIED': vDDDTypes(2022-07-08 14:46:24+00:00, Parameters({})), 'DTSTAMP': vDDDTypes(2022-07-08 14:46:24+00:00, Parameters({})), 'UID': vText(b'ddf4628b-38a7-485e-9ca7-a9965130f9e1'), 'SUMMARY': vText(b'[J]: Gau\\xc3\\x9f'), 'DTSTART': vDDDTypes(2022-08-19 09:00:00+02:00, Parameters({'TZID': 'Europe/Berlin'})), 'DTEND': vDDDTypes(2022-08-19 12:00:00+02:00, Parameters({'TZID': 'Europe/Berlin'})), 'X-MOZ-GENERATION': vText(b'2'), 'DESCRIPTION': vText(b'Institut f\\xc3\\xbcr Kartographie und Geoinformatik\\\\nAppelstr. 9A\\\\n'), 'SEQUENCE': 1})\n",
      "VEVENT({'CREATED': vDDDTypes(2021-10-23 16:41:16+00:00, Parameters({})), 'LAST-MODIFIED': vDDDTypes(2021-10-23 16:41:42+00:00, Parameters({})), 'DTSTAMP': vDDDTypes(2021-10-23 16:41:42+00:00, Parameters({})), 'UID': vText(b'e7563daf-4fe8-4b0c-b6d8-eb17168a91b8'), 'SUMMARY': vText(b'[M] FV'), 'DTSTART': vDDDTypes(2021-10-24 18:30:00+02:00, Parameters({'TZID': 'Europe/Berlin'})), 'DTEND': vDDDTypes(2021-10-24 20:30:00+02:00, Parameters({'TZID': 'Europe/Berlin'})), 'TRANSP': vText(b'OPAQUE')})\n",
      "VEVENT({'CREATED': vDDDTypes(2021-04-11 13:14:54+00:00, Parameters({})), 'LAST-MODIFIED': vDDDTypes(2021-04-11 13:15:26+00:00, Parameters({})), 'DTSTAMP': vDDDTypes(2021-04-11 13:15:26+00:00, Parameters({})), 'UID': vText(b'dc28adda-8b5e-4a4d-b305-f3427bec517f'), 'SUMMARY': vText(b'Zugangsbereichtigung zum Zoo'), 'DTSTART': vDDDTypes(2021-04-18 15:00:00+02:00, Parameters({'TZID': 'Europe/Berlin'})), 'DTEND': vDDDTypes(2021-04-18 17:15:00+02:00, Parameters({'TZID': 'Europe/Berlin'}))})\n",
      "VEVENT({'CREATED': vDDDTypes(2021-01-20 11:17:43+00:00, Parameters({})), 'LAST-MODIFIED': vDDDTypes(2021-01-20 11:18:10+00:00, Parameters({})), 'DTSTAMP': vDDDTypes(2021-01-20 11:18:10+00:00, Parameters({})), 'UID': vText(b'e3d80e5a-804e-434b-8047-8f248dfb9bf3'), 'SUMMARY': vText(b'HERBSTFERIEN'), 'DTSTART': vDDDTypes(2021-10-16, Parameters({'VALUE': 'DATE'})), 'DTEND': vDDDTypes(2021-11-01, Parameters({'VALUE': 'DATE'}))})\n",
      "VEVENT({'CREATED': vDDDTypes(2021-01-20 07:35:57+00:00, Parameters({})), 'LAST-MODIFIED': vDDDTypes(2021-01-20 12:45:49+00:00, Parameters({})), 'DTSTAMP': vDDDTypes(2021-01-20 12:45:49+00:00, Parameters({})), 'UID': vText(b'f95a0b64-583a-46e6-8e9a-9c3b1d7ffb11'), 'SUMMARY': vText(b'J_Fr. Westermann'), 'DTSTART': vDDDTypes(2021-01-20 14:00:00+00:00, Parameters({'TZID': 'Europe/London'})), 'DTEND': vDDDTypes(2021-01-20 14:30:00+00:00, Parameters({'TZID': 'Europe/London'})), 'SEQUENCE': 2, 'X-MOZ-GENERATION': vText(b'2')})\n",
      "VEVENT({'CREATED': vDDDTypes(2021-07-20 05:55:40+00:00, Parameters({})), 'LAST-MODIFIED': vDDDTypes(2021-07-20 05:56:24+00:00, Parameters({})), 'DTSTAMP': vDDDTypes(2021-07-20 05:56:24+00:00, Parameters({})), 'UID': vText(b'f58586ab-4a83-4a14-8c4f-65e8ea4f95e3'), 'SUMMARY': vText(b'Trefffen mit Bohls'), 'DTSTART': vDDDTypes(2021-07-23 17:00:00+02:00, Parameters({'TZID': 'Europe/Berlin'})), 'DTEND': vDDDTypes(2021-07-23 19:00:00+02:00, Parameters({'TZID': 'Europe/Berlin'})), 'X-MOZ-GENERATION': vText(b'1'), 'LOCATION': vText(b'Lister Biergarten')})\n",
      "VEVENT({'CREATED': vDDDTypes(2021-04-21 09:13:37+00:00, Parameters({})), 'LAST-MODIFIED': vDDDTypes(2021-04-21 09:14:17+00:00, Parameters({})), 'DTSTAMP': vDDDTypes(2021-04-21 09:14:17+00:00, Parameters({})), 'UID': vText(b'ed43d5a6-7160-4059-ba6e-752b7022c3cb'), 'SUMMARY': vText(b'DER: F\\xc3\\xa4den ex'), 'DTSTART': vDDDTypes(2021-05-25 10:00:00+02:00, Parameters({'TZID': 'Europe/Berlin'})), 'DTEND': vDDDTypes(2021-05-25 11:00:00+02:00, Parameters({'TZID': 'Europe/Berlin'})), 'X-MOZ-GENERATION': vText(b'2'), 'SEQUENCE': 1})\n",
      "VEVENT({'CREATED': vDDDTypes(2022-07-08 14:31:34+00:00, Parameters({})), 'LAST-MODIFIED': vDDDTypes(2022-07-08 14:47:02+00:00, Parameters({})), 'DTSTAMP': vDDDTypes(2022-07-08 14:47:02+00:00, Parameters({})), 'UID': vText(b'f2410493-0356-4d9e-8407-19f188bc5ac7'), 'SUMMARY': vText(b'[J]: China'), 'DTSTART': vDDDTypes(2022-07-28 09:30:00+02:00, Parameters({'TZID': 'Europe/Berlin'})), 'DTEND': vDDDTypes(2022-07-28 15:00:00+02:00, Parameters({'TZID': 'Europe/Berlin'})), 'X-MOZ-GENERATION': vText(b'2'), 'DESCRIPTION': vText(b'Leibniz-Konfuzius-Institut\\\\nLange Laube 30\\\\nEssen mitnehmen!\\\\n')})\n",
      "VEVENT({'CREATED': vDDDTypes(2021-06-23 11:13:34+00:00, Parameters({})), 'LAST-MODIFIED': vDDDTypes(2021-06-23 11:14:09+00:00, Parameters({})), 'DTSTAMP': vDDDTypes(2021-06-23 11:14:09+00:00, Parameters({})), 'UID': vText(b'e5726836-9912-4e07-b3b2-88f43f46ea63'), 'SUMMARY': vText(b'[J] Friseur'), 'DTSTART': vDDDTypes(2021-06-26 09:30:00+02:00, Parameters({'TZID': 'Europe/Berlin'})), 'DTEND': vDDDTypes(2021-06-26 10:00:00+02:00, Parameters({'TZID': 'Europe/Berlin'})), 'X-MOZ-GENERATION': vText(b'1')})\n",
      "VEVENT({'CREATED': vDDDTypes(2022-10-30 15:01:33+00:00, Parameters({})), 'LAST-MODIFIED': vDDDTypes(2022-11-15 15:10:58+00:00, Parameters({})), 'DTSTAMP': vDDDTypes(2022-11-15 15:10:58+00:00, Parameters({})), 'UID': vText(b'e2e61797-e8cd-48e4-9e1e-d37c56253f97'), 'SUMMARY': vText(b'[J] Laterneumzug'), 'DTSTART': vDDDTypes(2022-11-18 16:00:00+01:00, Parameters({'TZID': 'Europe/Berlin'})), 'DTEND': vDDDTypes(2022-11-18 18:00:00+01:00, Parameters({'TZID': 'Europe/Berlin'})), 'DESCRIPTION': vText(b'Treffen in R6 (Musikschule) um 16:00'), 'SEQUENCE': 2, 'X-MOZ-GENERATION': vText(b'3')})\n",
      "VEVENT({'CREATED': vDDDTypes(2021-09-09 06:04:11+00:00, Parameters({})), 'LAST-MODIFIED': vDDDTypes(2021-09-09 06:05:03+00:00, Parameters({})), 'DTSTAMP': vDDDTypes(2021-09-09 06:05:03+00:00, Parameters({})), 'UID': vText(b'db0aa4da-aadc-4ec0-8bfe-7b2d164f0753'), 'SUMMARY': vText(b'Fa. J\\xc3\\xb6hrens: Omas Garten'), 'DTSTART': vDDDTypes(2021-09-22, Parameters({'VALUE': 'DATE'})), 'DTEND': vDDDTypes(2021-09-24, Parameters({'VALUE': 'DATE'})), 'X-MOZ-GENERATION': vText(b'1')})\n",
      "VEVENT({'CREATED': vDDDTypes(2022-10-30 15:09:47+00:00, Parameters({})), 'LAST-MODIFIED': vDDDTypes(2022-10-30 15:10:20+00:00, Parameters({})), 'DTSTAMP': vDDDTypes(2022-10-30 15:10:20+00:00, Parameters({})), 'UID': vText(b'd01613c4-6901-406b-a0cb-258feb4ecd75'), 'SUMMARY': vText(b'[J] Posaune'), 'DTSTART': vDDDTypes(2022-11-08 17:20:00+01:00, Parameters({'TZID': 'Europe/Berlin'})), 'DTEND': vDDDTypes(2022-11-08 17:50:00+01:00, Parameters({'TZID': 'Europe/Berlin'}))})\n",
      "VEVENT({'CREATED': vDDDTypes(2021-02-21 19:43:15+00:00, Parameters({})), 'LAST-MODIFIED': vDDDTypes(2021-02-21 19:47:35+00:00, Parameters({})), 'DTSTAMP': vDDDTypes(2021-02-21 19:47:35+00:00, Parameters({})), 'UID': vText(b'cc8cd009-8db7-4a71-bd63-b0b2d1ec521b'), 'SUMMARY': vText(b'Elternsprechtag Fr. Wiedmann'), 'DTSTART': vDDDTypes(2021-02-26 16:50:00+01:00, Parameters({'TZID': 'Europe/Berlin'})), 'DTEND': vDDDTypes(2021-02-26 17:00:00+01:00, Parameters({'TZID': 'Europe/Berlin'})), 'X-MOZ-GENERATION': vText(b'1')})\n",
      "VEVENT({'CREATED': vDDDTypes(2022-08-23 07:17:51+00:00, Parameters({})), 'LAST-MODIFIED': vDDDTypes(2022-11-15 15:24:54+00:00, Parameters({})), 'DTSTAMP': vDDDTypes(2022-11-15 15:24:54+00:00, Parameters({})), 'UID': vText(b'd5f98bcc-4f20-4275-a627-9e1045156909'), 'SUMMARY': vText(b'KKS Adventskonzert'), 'DTSTART': vDDDTypes(2022-12-06 18:00:00+01:00, Parameters({'TZID': 'Europe/Berlin'})), 'DTEND': vDDDTypes(2022-12-06 20:00:00+01:00, Parameters({'TZID': 'Europe/Berlin'})), 'SEQUENCE': 1, 'X-MOZ-GENERATION': vText(b'1')})\n",
      "VEVENT({'CREATED': vDDDTypes(2021-08-19 08:40:44+00:00, Parameters({})), 'LAST-MODIFIED': vDDDTypes(2021-08-19 08:40:55+00:00, Parameters({})), 'DTSTAMP': vDDDTypes(2021-08-19 08:40:55+00:00, Parameters({})), 'UID': vText(b'ba89f4cb-bae6-4540-8aa2-786302ca5d9c'), 'SUMMARY': vText(b'REFORMATIONSTAG'), 'DTSTART': vDDDTypes(2022-10-31, Parameters({'VALUE': 'DATE'})), 'DTEND': vDDDTypes(2022-11-01, Parameters({'VALUE': 'DATE'}))})\n",
      "VEVENT({'CREATED': vDDDTypes(2021-06-19 18:13:47+00:00, Parameters({})), 'LAST-MODIFIED': vDDDTypes(2021-07-08 15:51:17+00:00, Parameters({})), 'DTSTAMP': vDDDTypes(2021-07-08 15:51:17+00:00, Parameters({})), 'UID': vText(b'bcef5ab6-b597-49d0-9189-94525708e89f'), 'SUMMARY': vText(b'[J] #213 Pharaonen'), 'DTSTART': vDDDTypes(2021-08-03 11:00:00+02:00, Parameters({'TZID': 'Europe/Berlin'})), 'DTEND': vDDDTypes(2021-08-03 13:00:00+02:00, Parameters({'TZID': 'Europe/Berlin'})), 'SEQUENCE': 1, 'X-MOZ-GENERATION': vText(b'2')})\n",
      "VEVENT({'CREATED': vDDDTypes(2022-01-04 11:14:18+00:00, Parameters({})), 'LAST-MODIFIED': vDDDTypes(2022-01-04 11:15:37+00:00, Parameters({})), 'DTSTAMP': vDDDTypes(2022-01-04 11:15:37+00:00, Parameters({})), 'UID': vText(b'd34d0541-708b-449c-b9cd-c24015fe277a'), 'SUMMARY': vText(b'[J] Pass beantragen'), 'DTSTART': vDDDTypes(2022-03-01 16:50:00+01:00, Parameters({'TZID': 'Europe/Berlin'})), 'DTEND': vDDDTypes(2022-03-01 17:15:00+01:00, Parameters({'TZID': 'Europe/Berlin'})), 'DESCRIPTION': vText(b'T522'), 'SEQUENCE': 1, 'X-MOZ-GENERATION': vText(b'2')})\n",
      "VEVENT({'CREATED': vDDDTypes(2021-03-31 09:07:50+00:00, Parameters({})), 'LAST-MODIFIED': vDDDTypes(2021-03-31 09:09:01+00:00, Parameters({})), 'DTSTAMP': vDDDTypes(2021-03-31 09:09:01+00:00, Parameters({})), 'UID': vText(b'cd76f7d2-e70c-4548-982a-3df4f1fcf696'), 'SUMMARY': vText(b'Covid-19 Impfung 12:00 Uhr'), 'DTSTART': vDDDTypes(2021-05-20 11:15:00+02:00, Parameters({'TZID': 'Europe/Berlin'})), 'DTEND': vDDDTypes(2021-05-20 13:45:00+02:00, Parameters({'TZID': 'Europe/Berlin'})), 'X-MOZ-GENERATION': vText(b'1')})\n",
      "VEVENT({'CREATED': vDDDTypes(2022-01-02 13:22:08+00:00, Parameters({})), 'LAST-MODIFIED': vDDDTypes(2022-05-22 09:04:55+00:00, Parameters({})), 'DTSTAMP': vDDDTypes(2022-05-22 09:04:55+00:00, Parameters({})), 'UID': vText(b'b365de0c-a750-43bf-af72-c50efb28f258'), 'SUMMARY': vText(b'[W] Fotoschule Berggarten 0900 - 1300'), 'X-MOZ-LASTACK': vText(b'20220522T090455Z'), 'DTSTART': vDDDTypes(2022-05-22 09:00:00+02:00, Parameters({'TZID': 'Europe/Berlin'})), 'DTEND': vDDDTypes(2022-05-22 14:00:00+02:00, Parameters({'TZID': 'Europe/Berlin'})), 'SEQUENCE': 0, 'X-MOZ-GENERATION': vText(b'1'), 'TRANSP': vText(b'OPAQUE'), 'X-APPLE-TRAVEL-DURATION': vText(b'PT1H')}, VALARM({'ACTION': vText(b'DISPLAY'), 'TRIGGER': vDDDTypes(-1 day, 23:00:00, Parameters({})), 'DESCRIPTION': vText(b'Mozilla Standardbeschreibung'), 'UID': vText(b'3F29E866-0C87-4855-97AE-E1C2C06AF543'), 'X-WR-ALARMUID': vText(b'3F29E866-0C87-4855-97AE-E1C2C06AF543')}))\n",
      "VEVENT({'CREATED': vDDDTypes(2022-01-02 13:20:32+00:00, Parameters({})), 'LAST-MODIFIED': vDDDTypes(2022-01-02 13:21:33+00:00, Parameters({})), 'DTSTAMP': vDDDTypes(2022-01-02 13:21:33+00:00, Parameters({})), 'UID': vText(b'afff2e9d-d39a-4c4c-b03b-1abb8d22db54'), 'SUMMARY': vText(b'[W] in H: Do 16:17 - Di 11:41'), 'DTSTART': vDDDTypes(2022-05-19, Parameters({'VALUE': 'DATE'})), 'DTEND': vDDDTypes(2022-05-25, Parameters({'VALUE': 'DATE'})), 'TRANSP': vText(b'TRANSPARENT')})\n",
      "VEVENT({'CREATED': vDDDTypes(2022-08-30 11:56:02+00:00, Parameters({})), 'LAST-MODIFIED': vDDDTypes(2022-08-30 11:56:15+00:00, Parameters({})), 'DTSTAMP': vDDDTypes(2022-08-30 11:56:15+00:00, Parameters({})), 'UID': vText(b'adfcdde1-acfa-42f2-8d6f-bb142f47c802'), 'SUMMARY': vText(b'Orchester-Detektive'), 'DTSTART': vDDDTypes(2023-06-02 17:00:00+02:00, Parameters({'TZID': 'Europe/Berlin'})), 'DTEND': vDDDTypes(2023-06-02 18:00:00+02:00, Parameters({'TZID': 'Europe/Berlin'}))})\n",
      "VEVENT({'CREATED': vDDDTypes(2021-09-21 09:01:32+00:00, Parameters({})), 'LAST-MODIFIED': vDDDTypes(2021-09-21 09:02:04+00:00, Parameters({})), 'DTSTAMP': vDDDTypes(2021-09-21 09:02:04+00:00, Parameters({})), 'UID': vText(b'abc00121-d536-4ff4-aac2-1ca434e96d6f'), 'SUMMARY': vText(b\"[J] Toby's Salon\"), 'DTSTART': vDDDTypes(2021-10-01 15:30:00+02:00, Parameters({'TZID': 'Europe/Berlin'})), 'DTEND': vDDDTypes(2021-10-01 16:30:00+02:00, Parameters({'TZID': 'Europe/Berlin'}))})\n",
      "VEVENT({'CREATED': vDDDTypes(2021-07-09 11:57:23+00:00, Parameters({})), 'LAST-MODIFIED': vDDDTypes(2021-07-09 11:57:42+00:00, Parameters({})), 'DTSTAMP': vDDDTypes(2021-07-09 11:57:42+00:00, Parameters({})), 'UID': vText(b'bf9ee071-4e99-4aa1-aecb-087a5da42b05'), 'SUMMARY': vText(b'LUXEMBURG'), 'DTSTART': vDDDTypes(2021-08-06, Parameters({'VALUE': 'DATE'})), 'DTEND': vDDDTypes(2021-08-14, Parameters({'VALUE': 'DATE'}))})\n",
      "VEVENT({'CREATED': vDDDTypes(2021-01-20 11:20:03+00:00, Parameters({})), 'LAST-MODIFIED': vDDDTypes(2021-01-20 11:20:46+00:00, Parameters({})), 'DTSTAMP': vDDDTypes(2021-01-20 11:20:46+00:00, Parameters({})), 'UID': vText(b'b5373a1c-1dc8-4066-82b2-192be64724fa'), 'SUMMARY': vText(b'WEIHNACHTSFERIEN'), 'DTSTART': vDDDTypes(2021-12-23, Parameters({'VALUE': 'DATE'})), 'DTEND': vDDDTypes(2022-01-10, Parameters({'VALUE': 'DATE'}))})\n",
      "VEVENT({'CREATED': vDDDTypes(2022-07-08 14:41:43+00:00, Parameters({})), 'LAST-MODIFIED': vDDDTypes(2022-07-08 14:43:01+00:00, Parameters({})), 'DTSTAMP': vDDDTypes(2022-07-08 14:43:01+00:00, Parameters({})), 'UID': vText(b'c854832f-0683-4fde-964e-f160ae7aa03f'), 'SUMMARY': vText(b'[J]: Spielpark Roderbruch'), 'DTSTART': vDDDTypes(2022-08-23 10:00:00+02:00, Parameters({'TZID': 'Europe/Berlin'})), 'DTEND': vDDDTypes(2022-08-23 15:00:00+02:00, Parameters({'TZID': 'Europe/Berlin'}))})\n",
      "VEVENT({'CREATED': vDDDTypes(2021-12-23 10:51:21+00:00, Parameters({})), 'LAST-MODIFIED': vDDDTypes(2021-12-23 10:51:58+00:00, Parameters({})), 'DTSTAMP': vDDDTypes(2021-12-23 10:51:58+00:00, Parameters({})), 'UID': vText(b'a21edd85-ed59-4ea9-ba64-16592e0b0ba1'), 'SUMMARY': vText(b\"[J] Toby's Salon\"), 'DTSTART': vDDDTypes(2022-02-01 11:30:00+01:00, Parameters({'TZID': 'Europe/Berlin'})), 'DTEND': vDDDTypes(2022-02-01 12:15:00+01:00, Parameters({'TZID': 'Europe/Berlin'})), 'X-MOZ-GENERATION': vText(b'3'), 'SEQUENCE': 1})\n",
      "VEVENT({'CREATED': vDDDTypes(2023-02-22 19:26:39+00:00, Parameters({})), 'LAST-MODIFIED': vDDDTypes(2023-02-22 19:26:39+00:00, Parameters({})), 'DTSTAMP': vDDDTypes(2023-02-22 19:26:40+00:00, Parameters({})), 'UID': vText(b'FE5350EE-95FF-4353-B8A8-44B87CDFA3D4'), 'SUMMARY': vText(b'[J] Judo Unterst\\xc3\\xbctzung Wettbewerb'), 'DTSTART': vDDDTypes(2023-03-04, Parameters({'VALUE': 'DATE'})), 'DTEND': vDDDTypes(2023-03-05, Parameters({'VALUE': 'DATE'})), 'LOCATION': vText(b'Misburg'), 'SEQUENCE': 0, 'TRANSP': vText(b'OPAQUE')})\n"
     ]
    },
    {
     "ename": "KeyboardInterrupt",
     "evalue": "",
     "output_type": "error",
     "traceback": [
      "\u001B[0;31m---------------------------------------------------------------------------\u001B[0m",
      "\u001B[0;31mKeyboardInterrupt\u001B[0m                         Traceback (most recent call last)",
      "Cell \u001B[0;32mIn[6], line 2\u001B[0m\n\u001B[1;32m      1\u001B[0m \u001B[38;5;28;01mfor\u001B[39;00m event \u001B[38;5;129;01min\u001B[39;00m calendar\u001B[38;5;241m.\u001B[39mwalk(\u001B[38;5;124m'\u001B[39m\u001B[38;5;124mVEVENT\u001B[39m\u001B[38;5;124m'\u001B[39m):\n\u001B[0;32m----> 2\u001B[0m \t\u001B[38;5;28;43mprint\u001B[39;49m\u001B[43m(\u001B[49m\u001B[43mevent\u001B[49m\u001B[43m)\u001B[49m\n",
      "File \u001B[0;32m~/Documents/code/python/ics_csv_converter/.venv/lib/python3.11/site-packages/icalendar/cal.py:533\u001B[0m, in \u001B[0;36mComponent.__repr__\u001B[0;34m(self)\u001B[0m\n\u001B[1;32m    530\u001B[0m \u001B[38;5;250m\u001B[39m\u001B[38;5;124;03m\"\"\"String representation of class with all of it's subcomponents.\u001B[39;00m\n\u001B[1;32m    531\u001B[0m \u001B[38;5;124;03m\"\"\"\u001B[39;00m\n\u001B[1;32m    532\u001B[0m subs \u001B[38;5;241m=\u001B[39m \u001B[38;5;124m'\u001B[39m\u001B[38;5;124m, \u001B[39m\u001B[38;5;124m'\u001B[39m\u001B[38;5;241m.\u001B[39mjoin(\u001B[38;5;28mstr\u001B[39m(it) \u001B[38;5;28;01mfor\u001B[39;00m it \u001B[38;5;129;01min\u001B[39;00m \u001B[38;5;28mself\u001B[39m\u001B[38;5;241m.\u001B[39msubcomponents)\n\u001B[0;32m--> 533\u001B[0m \u001B[38;5;28;01mreturn\u001B[39;00m \u001B[38;5;124mf\u001B[39m\u001B[38;5;124m\"\u001B[39m\u001B[38;5;132;01m{\u001B[39;00m\u001B[38;5;28mself\u001B[39m\u001B[38;5;241m.\u001B[39mname\u001B[38;5;250m \u001B[39m\u001B[38;5;129;01mor\u001B[39;00m\u001B[38;5;250m \u001B[39m\u001B[38;5;28mtype\u001B[39m(\u001B[38;5;28mself\u001B[39m)\u001B[38;5;241m.\u001B[39m\u001B[38;5;18m__name__\u001B[39m\u001B[38;5;132;01m}\u001B[39;00m\u001B[38;5;124m(\u001B[39m\u001B[38;5;132;01m{\u001B[39;00m\u001B[38;5;28mdict\u001B[39m(\u001B[38;5;28mself\u001B[39m)\u001B[38;5;132;01m}\u001B[39;00m\u001B[38;5;132;01m{\u001B[39;00m\u001B[38;5;124m'\u001B[39m\u001B[38;5;124m, \u001B[39m\u001B[38;5;124m'\u001B[39m\u001B[38;5;250m \u001B[39m\u001B[38;5;241m+\u001B[39m\u001B[38;5;250m \u001B[39msubs\u001B[38;5;250m \u001B[39m\u001B[38;5;28;01mif\u001B[39;00m\u001B[38;5;250m \u001B[39msubs\u001B[38;5;250m \u001B[39m\u001B[38;5;28;01melse\u001B[39;00m\u001B[38;5;250m \u001B[39m\u001B[38;5;124m'\u001B[39m\u001B[38;5;124m'\u001B[39m\u001B[38;5;132;01m}\u001B[39;00m\u001B[38;5;124m)\u001B[39m\u001B[38;5;124m\"\u001B[39m\n",
      "File \u001B[0;32m~/Documents/code/python/ics_csv_converter/.venv/lib/python3.11/site-packages/icalendar/prop.py:500\u001B[0m, in \u001B[0;36mvDDDTypes.__repr__\u001B[0;34m(self)\u001B[0m\n\u001B[1;32m    498\u001B[0m \u001B[38;5;28;01mdef\u001B[39;00m\u001B[38;5;250m \u001B[39m\u001B[38;5;21m__repr__\u001B[39m(\u001B[38;5;28mself\u001B[39m):\n\u001B[1;32m    499\u001B[0m \u001B[38;5;250m    \u001B[39m\u001B[38;5;124;03m\"\"\"repr(self)\"\"\"\u001B[39;00m\n\u001B[0;32m--> 500\u001B[0m     \u001B[38;5;28;01mreturn\u001B[39;00m \u001B[38;5;124mf\u001B[39m\u001B[38;5;124m\"\u001B[39m\u001B[38;5;132;01m{\u001B[39;00m\u001B[38;5;28mself\u001B[39m\u001B[38;5;241m.\u001B[39m\u001B[38;5;18m__class__\u001B[39m\u001B[38;5;241m.\u001B[39m\u001B[38;5;18m__name__\u001B[39m\u001B[38;5;132;01m}\u001B[39;00m\u001B[38;5;124m(\u001B[39m\u001B[38;5;132;01m{\u001B[39;00m\u001B[38;5;28mself\u001B[39m\u001B[38;5;241m.\u001B[39mdt\u001B[38;5;132;01m}\u001B[39;00m\u001B[38;5;124m, \u001B[39m\u001B[38;5;132;01m{\u001B[39;00m\u001B[38;5;28mself\u001B[39m\u001B[38;5;241m.\u001B[39mparams\u001B[38;5;132;01m}\u001B[39;00m\u001B[38;5;124m)\u001B[39m\u001B[38;5;124m\"\u001B[39m\n",
      "File \u001B[0;32m~/Documents/code/python/ics_csv_converter/.venv/lib/python3.11/site-packages/icalendar/caselessdict.py:86\u001B[0m, in \u001B[0;36mCaselessDict.__repr__\u001B[0;34m(self)\u001B[0m\n\u001B[1;32m     85\u001B[0m \u001B[38;5;28;01mdef\u001B[39;00m\u001B[38;5;250m \u001B[39m\u001B[38;5;21m__repr__\u001B[39m(\u001B[38;5;28mself\u001B[39m):\n\u001B[0;32m---> 86\u001B[0m     \u001B[38;5;28;01mreturn\u001B[39;00m \u001B[38;5;124mf\u001B[39m\u001B[38;5;124m'\u001B[39m\u001B[38;5;132;01m{\u001B[39;00m\u001B[38;5;28mtype\u001B[39m(\u001B[38;5;28mself\u001B[39m)\u001B[38;5;241m.\u001B[39m\u001B[38;5;18m__name__\u001B[39m\u001B[38;5;132;01m}\u001B[39;00m\u001B[38;5;124m(\u001B[39m\u001B[38;5;132;01m{\u001B[39;00m\u001B[38;5;28;43mdict\u001B[39;49m\u001B[43m(\u001B[49m\u001B[38;5;28;43mself\u001B[39;49m\u001B[43m)\u001B[49m\u001B[38;5;132;01m}\u001B[39;00m\u001B[38;5;124m)\u001B[39m\u001B[38;5;124m'\u001B[39m\n",
      "File \u001B[0;32m~/Documents/code/python/ics_csv_converter/.venv/lib/python3.11/site-packages/icalendar/caselessdict.py:39\u001B[0m, in \u001B[0;36mCaselessDict.__getitem__\u001B[0;34m(self, key)\u001B[0m\n\u001B[1;32m     38\u001B[0m \u001B[38;5;28;01mdef\u001B[39;00m\u001B[38;5;250m \u001B[39m\u001B[38;5;21m__getitem__\u001B[39m(\u001B[38;5;28mself\u001B[39m, key):\n\u001B[0;32m---> 39\u001B[0m     key \u001B[38;5;241m=\u001B[39m \u001B[43mto_unicode\u001B[49m\u001B[43m(\u001B[49m\u001B[43mkey\u001B[49m\u001B[43m)\u001B[49m\n\u001B[1;32m     40\u001B[0m     \u001B[38;5;28;01mreturn\u001B[39;00m \u001B[38;5;28msuper\u001B[39m()\u001B[38;5;241m.\u001B[39m\u001B[38;5;21m__getitem__\u001B[39m(key\u001B[38;5;241m.\u001B[39mupper())\n",
      "File \u001B[0;32m~/Documents/code/python/ics_csv_converter/.venv/lib/python3.11/site-packages/icalendar/parser_tools.py:29\u001B[0m, in \u001B[0;36mto_unicode\u001B[0;34m(value, encoding)\u001B[0m\n\u001B[1;32m     26\u001B[0m \u001B[38;5;28;01mdef\u001B[39;00m\u001B[38;5;250m \u001B[39m\u001B[38;5;21mto_unicode\u001B[39m(value: ICAL_TYPE, encoding\u001B[38;5;241m=\u001B[39m\u001B[38;5;124m'\u001B[39m\u001B[38;5;124mutf-8-sig\u001B[39m\u001B[38;5;124m'\u001B[39m) \u001B[38;5;241m-\u001B[39m\u001B[38;5;241m>\u001B[39m \u001B[38;5;28mstr\u001B[39m:\n\u001B[1;32m     27\u001B[0m \u001B[38;5;250m    \u001B[39m\u001B[38;5;124;03m\"\"\"Converts a value to unicode, even if it is already a unicode string.\u001B[39;00m\n\u001B[1;32m     28\u001B[0m \u001B[38;5;124;03m    \"\"\"\u001B[39;00m\n\u001B[0;32m---> 29\u001B[0m     \u001B[38;5;28;01mif\u001B[39;00m \u001B[38;5;28;43misinstance\u001B[39;49m\u001B[43m(\u001B[49m\u001B[43mvalue\u001B[49m\u001B[43m,\u001B[49m\u001B[43m \u001B[49m\u001B[38;5;28;43mstr\u001B[39;49m\u001B[43m)\u001B[49m:\n\u001B[1;32m     30\u001B[0m         \u001B[38;5;28;01mreturn\u001B[39;00m value\n\u001B[1;32m     31\u001B[0m     \u001B[38;5;28;01melif\u001B[39;00m \u001B[38;5;28misinstance\u001B[39m(value, \u001B[38;5;28mbytes\u001B[39m):\n",
      "\u001B[0;31mKeyboardInterrupt\u001B[0m: "
     ]
    }
   ],
   "execution_count": 6
  },
  {
   "metadata": {
    "ExecuteTime": {
     "end_time": "2025-01-26T15:58:15.616498Z",
     "start_time": "2025-01-26T15:58:15.609890Z"
    }
   },
   "cell_type": "code",
   "source": "\"description\".upper()",
   "id": "9acb5875a15588d0",
   "outputs": [
    {
     "data": {
      "text/plain": [
       "'DESCRIPTION'"
      ]
     },
     "execution_count": 7,
     "metadata": {},
     "output_type": "execute_result"
    }
   ],
   "execution_count": 7
  }
 ],
 "metadata": {
  "kernelspec": {
   "display_name": "Python 3",
   "language": "python",
   "name": "python3"
  },
  "language_info": {
   "codemirror_mode": {
    "name": "ipython",
    "version": 2
   },
   "file_extension": ".py",
   "mimetype": "text/x-python",
   "name": "python",
   "nbconvert_exporter": "python",
   "pygments_lexer": "ipython2",
   "version": "2.7.6"
  }
 },
 "nbformat": 4,
 "nbformat_minor": 5
}
